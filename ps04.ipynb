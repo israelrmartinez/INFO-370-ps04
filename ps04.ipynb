{
 "cells": [
  {
   "cell_type": "markdown",
   "id": "992dfea4-0d1b-4b5c-bfab-b4b33491e107",
   "metadata": {},
   "source": [
    "# INFO 370 Problem Set 4: Descriptive Statistics\n",
    "*Name:* Israel Martinez\n",
    "\n",
    "## 1 Explore Central Limit Theorem (60pt)\n",
    "In this section you will see how does Central Limit Theorem (CLT) work. CLT states\n",
    "two things:\n",
    "1. Means of random numbers tend to be normally distributed if the sample gets large.\n",
    "2. Variance of the mean tends to be 1 SVar X where S is the sample size and X is the random variable we are analyzing.\n",
    "\n",
    "    (This is actually a direct result of definition of expectation, and independence not really CLT. But CLT is closely related to this result.)\n",
    "\n",
    "CLT, and how variance and mean value change when sample size increases, plays a very important role in computing confidence intervals later.\n",
    "\n",
    "The problem contains two tasks: work with Bernoulli-distributed numbers (discrete distribution), and with Pareto-distributed numbers (continuous distribution).\n",
    "\n",
    "The task is structured in a way that you may want to create a function that takes in sample size S and outputs all needed results, including the histogram. There will be quite a bit of repetitive coding otherwise."
   ]
  },
  {
   "cell_type": "markdown",
   "id": "005d6239-a83c-41ab-b444-7bd904b8933e",
   "metadata": {},
   "source": [
    "### 1.1 Discrete Random Variables (36pt)\n",
    "We start with a distribution that does not look at all normal. We create a RV\n",
    "\n",
    "X = { −1 with probability 0.5\n",
    "    { 1 with probability 0.5.\n",
    "\n",
    "One way to sample such realizations is\n",
    "np.random.randint(0,2, size=100) * 2 - 1\n",
    "\n",
    "1. (5pt) Calculate the expected value and variance of this random variable. Note: these are theoretical values and not related to any samples.\n",
    "\n",
    "Hint: read lecture notes 1.3.4 (Expected Value and Variance), and Openintro Statistics 3.4 (Random variables), in particular 3.4.2 (Variability). I recommend to use the shortcut formula \n",
    "\n",
    "Var X = E X^2 − (E X)^2"
   ]
  },
  {
   "cell_type": "code",
   "execution_count": 1,
   "id": "5b4928ca-c15f-4c7d-8ab0-15f77a261deb",
   "metadata": {},
   "outputs": [],
   "source": [
    "import pandas as pd\n",
    "import numpy as np\n",
    "import matplotlib.pyplot as plt\n",
    "from statistics import mean"
   ]
  },
  {
   "cell_type": "code",
   "execution_count": 4,
   "id": "e5576e94-f759-4f75-ad2c-e38593d68a07",
   "metadata": {},
   "outputs": [
    {
     "data": {
      "text/plain": [
       "0.9900000000000001"
      ]
     },
     "execution_count": 4,
     "metadata": {},
     "output_type": "execute_result"
    }
   ],
   "source": [
    "x = np.random.randint(0, 2, size = 100) * 2 - 1\n",
    "v = np.var(x)\n",
    "v"
   ]
  },
  {
   "cell_type": "markdown",
   "id": "4c006835-5fb8-4523-ab88-1d14dbd71c30",
   "metadata": {},
   "source": [
    "The expected value of the random variable will be 0, while the variance will be 0.99."
   ]
  },
  {
   "cell_type": "markdown",
   "id": "37b4e21c-20e9-4c94-89a3-df4b63679b06",
   "metadata": {},
   "source": [
    "2. (1pt) Choose your number of repetitions R. 1000 is a good number but you can also take 10,000 or 100,000 to get smoother histograms.\n",
    "\n",
    "Note: number of repetitions R is not the same as sample size S here. You will create samples of size S for R times. For instance you create R = 1000 times a sample of size S = 5. Please understand the difference, it is a fequent source of confusion!"
   ]
  },
  {
   "cell_type": "code",
   "execution_count": 17,
   "id": "781acc82-ea33-48f6-b136-e262432de5d5",
   "metadata": {},
   "outputs": [],
   "source": [
    "R = 1000"
   ]
  },
  {
   "cell_type": "markdown",
   "id": "82395326-6ffa-40b0-b1a2-134064007db4",
   "metadata": {},
   "source": [
    "3. (2pt) Create a vector of R random realizations of X. Make a histogram of those. Comment the shape of the histogram.\n",
    "\n",
    "Note: in this case we have R = 1000 repetitions and samples of size S = 1–we look at individual realizations."
   ]
  },
  {
   "cell_type": "code",
   "execution_count": 10,
   "id": "e7a0649e-e08a-4cdd-b643-6898b5720eb2",
   "metadata": {},
   "outputs": [
    {
     "data": {
      "image/png": "[encoded data removed]",
      "text/plain": [
       "<Figure size 432x288 with 1 Axes>"
      ]
     },
     "metadata": {
      "needs_background": "light"
     },
     "output_type": "display_data"
    }
   ],
   "source": [
    "S = 1\n",
    "x = np.random.randint(0, 2, size=(R, S)) * 2 - 1\n",
    "m = np.mean(x, axis=1)\n",
    "_ = plt.hist(x, edgecolor = 'w')"
   ]
  },
  {
   "cell_type": "markdown",
   "id": "f3aee095-d6d8-44ae-aa94-ea45d4a059c5",
   "metadata": {},
   "source": [
    "4. (4pt) Compute and report mean and variance of the sample you created (just use np.mean and np.var). Compare these numbers with the theoretical values computed in 1."
   ]
  },
  {
   "cell_type": "code",
   "execution_count": 11,
   "id": "9e936ad3-d3b1-40c5-869d-160bb88c4147",
   "metadata": {},
   "outputs": [
    {
     "data": {
      "text/plain": [
       "(-0.02, 0.9995999999999999)"
      ]
     },
     "execution_count": 11,
     "metadata": {},
     "output_type": "execute_result"
    }
   ],
   "source": [
    "mean = np.mean(x)\n",
    "var = np.var(x)\n",
    "mean, var"
   ]
  },
  {
   "cell_type": "markdown",
   "id": "743a92e8-f202-4c75-8216-096a6cdf75a0",
   "metadata": {},
   "source": [
    "The mean is -0.02 and the variance is 0.9995999999999999."
   ]
  },
  {
   "cell_type": "markdown",
   "id": "91cbf32a-b1c5-4346-95aa-857a35222128",
   "metadata": {},
   "source": [
    "5. (3pt) Now create R pairs of random realizations of X (i.e. sample size S = 2). For each pair, compute its mean. You should have R means. Make the histogram. How does this look like?\n",
    "\n",
    "Hint: while you can do this using loops, it is more useful to create a R × 2 matrix of realizations of X, where each row represents one pair. Thereafter you compute means by rows and you have R pair means. See python notes numpy statistical functions for an example."
   ]
  },
  {
   "cell_type": "code",
   "execution_count": 14,
   "id": "e311ab5c-95b2-44b0-b69f-34ed36d56992",
   "metadata": {},
   "outputs": [
    {
     "data": {
      "image/png": "[encoded data removed]",
      "text/plain": [
       "<Figure size 432x288 with 1 Axes>"
      ]
     },
     "metadata": {
      "needs_background": "light"
     },
     "output_type": "display_data"
    }
   ],
   "source": [
    "S = 2\n",
    "x = np.random.randint(0, 2, size=(R, S)) * 2 - 1\n",
    "_ = plt.hist(x, edgecolor = 'w')"
   ]
  },
  {
   "cell_type": "markdown",
   "id": "5a63aa82-a1d5-4cb3-9a99-7100f8cb87f1",
   "metadata": {},
   "source": [
    "6. (3pt) Compute and report mean of the R pair means, and variance of the means."
   ]
  },
  {
   "cell_type": "markdown",
   "id": "72ff1303-627c-4949-ba7e-159c48d4e90d",
   "metadata": {},
   "source": [
    "7. (5pt) Compute the expected value and variance of the pair means, i.e. the theoretical concepts. Compare the theoretical values with the sample values above.\n",
    "\n",
    "Note that according to CLT tells, the variance of a pair mean should be just 1/2 of what you got above as for pairs S = 2."
   ]
  },
  {
   "cell_type": "code",
   "execution_count": 16,
   "id": "7c8f5d27-203e-45ca-af53-87cd2e334d21",
   "metadata": {},
   "outputs": [
    {
     "data": {
      "text/plain": [
       "(0.016, 0.9997440000000002)"
      ]
     },
     "execution_count": 16,
     "metadata": {},
     "output_type": "execute_result"
    }
   ],
   "source": [
    "mean = np.mean(x)\n",
    "var = np.var(x)\n",
    "mean, var"
   ]
  },
  {
   "cell_type": "markdown",
   "id": "f271a961-7f8b-4592-9047-00a0525fb3e2",
   "metadata": {},
   "source": [
    "The mean is 0.016 and the variance is 0.9997440000000002."
   ]
  },
  {
   "cell_type": "markdown",
   "id": "7ab7185f-d92f-4cfc-b6d9-881e90d747d4",
   "metadata": {},
   "source": [
    "8. (2pt) Now instead of pairs of random numbers, repeat this with 5-tuples of random numbers (i.e. S = 5 random numbers per one repetition, and still R = 1000 repetitions in total). Compare the theoretical and sample version of mean and variance of 5-tuples. Are they similar? Do you spot any noticeable differences in the histogram compared to your previous histogram?"
   ]
  },
  {
   "cell_type": "code",
   "execution_count": 19,
   "id": "df9572ed-fdb0-452f-88c1-c6835fd3c37e",
   "metadata": {},
   "outputs": [
    {
     "data": {
      "text/plain": [
       "(0.004000000000000002, 0.20862399999999998)"
      ]
     },
     "execution_count": 19,
     "metadata": {},
     "output_type": "execute_result"
    },
    {
     "data": {
      "image/png": "[encoded data removed]",
      "text/plain": [
       "<Figure size 432x288 with 1 Axes>"
      ]
     },
     "metadata": {
      "needs_background": "light"
     },
     "output_type": "display_data"
    }
   ],
   "source": [
    "S = 5\n",
    "x = np.random.randint(0, 2, size=(R,S)) * 2 - 1\n",
    "m = x.mean(axis=1)\n",
    "mean = np.mean(m)\n",
    "var = np.var(m)\n",
    "_ = plt.hist(m, edgecolor='w')\n",
    "mean, var"
   ]
  },
  {
   "cell_type": "markdown",
   "id": "1b9c6cb2-ad90-41a2-a259-a8f830705f70",
   "metadata": {},
   "source": [
    "The mean is 0.004000000000000002 and the variance is 0.20862399999999998. Compared to the previous histogram, there is a lot more variety in data. The mean is a lot closer to 0 and the variance value is much more."
   ]
  },
  {
   "cell_type": "markdown",
   "id": "87c6274f-cf14-45d8-aa4f-eb73f166266a",
   "metadata": {},
   "source": [
    "9. (2pt) Repeat with 25-tuples..."
   ]
  },
  {
   "cell_type": "code",
   "execution_count": 23,
   "id": "3a345667-2a57-41f3-a16f-62226f361e9c",
   "metadata": {},
   "outputs": [
    {
     "data": {
      "text/plain": [
       "(-0.003120000000000001, 0.0414110656)"
      ]
     },
     "execution_count": 23,
     "metadata": {},
     "output_type": "execute_result"
    },
    {
     "data": {
      "image/png": "[encoded data removed]",
      "text/plain": [
       "<Figure size 432x288 with 1 Axes>"
      ]
     },
     "metadata": {
      "needs_background": "light"
     },
     "output_type": "display_data"
    }
   ],
   "source": [
    "S = 25\n",
    "x = np.random.randint(0, 2, size=(R,S)) * 2 - 1\n",
    "m = x.mean(axis=1)\n",
    "mean = np.mean(m)\n",
    "var = np.var(m)\n",
    "_ = plt.hist(m, edgecolor='w')\n",
    "mean, var"
   ]
  },
  {
   "cell_type": "markdown",
   "id": "a0f0fc6b-dd96-4f1c-8419-7f8c4c79573b",
   "metadata": {},
   "source": [
    "10. (2pt) ... and with 1000-tuples."
   ]
  },
  {
   "cell_type": "code",
   "execution_count": 24,
   "id": "aa7971b2-d511-4c16-8de8-86c0a6cf7cd5",
   "metadata": {},
   "outputs": [
    {
     "data": {
      "text/plain": [
       "(0.001094, 0.0009420231639999999)"
      ]
     },
     "execution_count": 24,
     "metadata": {},
     "output_type": "execute_result"
    },
    {
     "data": {
      "image/png": "[encoded data removed]",
      "text/plain": [
       "<Figure size 432x288 with 1 Axes>"
      ]
     },
     "metadata": {
      "needs_background": "light"
     },
     "output_type": "display_data"
    }
   ],
   "source": [
    "S = 1000\n",
    "x = np.random.randint(0, 2, size=(R,S)) * 2 - 1\n",
    "m = x.mean(axis=1)\n",
    "mean = np.mean(m)\n",
    "var = np.var(m)\n",
    "_ = plt.hist(m, edgecolor='w')\n",
    "mean, var"
   ]
  },
  {
   "cell_type": "markdown",
   "id": "688da24f-edf9-49ce-b4e3-41d707d13e54",
   "metadata": {},
   "source": [
    "11. (3pt) Comment on the tuple size, and the shape of the histogram.\n",
    "\n",
    "As the sample size is increased, the graph seems to become more and more normally distributed. According to CLT, as our sample gets bigger then approach the expected value of 0. Another thing to think about is that the mean values got closer to 0 which showed that the results were averaging."
   ]
  },
  {
   "cell_type": "markdown",
   "id": "f8cf1f7f-8694-4d46-99fb-0c831b68e2dc",
   "metadata": {},
   "source": [
    "12. (4pt) Explain why do the histograms resemble normal distribution as S grows.\n",
    "\n",
    "In particular, explain what happens when we move from single values S = 1 to pairs S = 2. Why did two equal peaks turn into a “山”-like histogram?"
   ]
  },
  {
   "cell_type": "markdown",
   "id": "c61531eb-f9fe-4c74-ba2e-4216630d450c",
   "metadata": {},
   "source": [
    "The sample size was doubled, going from 1 to 2."
   ]
  },
  {
   "cell_type": "markdown",
   "id": "9b09c91e-4f4e-49ef-b9e1-e58e0b5302ca",
   "metadata": {},
   "source": [
    "### 1.2 Pareto-distributed Random Numbers (24pt)\n",
    "Next, we look at Pareto-distributed random numbers.1 Pareto is a popular distribution to describe unequal outcomes, such as human income. It has a single parameter α, often called shape. Its pdf is given as\n",
    "\n",
    "f(x) = α(1 + x)^(−α−1)\n",
    "\n",
    "Its expected value (mean) can be compute by just integrating the pdf but we just rely on the formulas:\n",
    "\n",
    "E X = 1 / (α − 1), α > 1\n",
    "\n",
    "for expected value and\n",
    "\n",
    "Var X = α / (α − 1)^2(α − 2), α > 2\n",
    "\n",
    "for variance. You will encounter pareto-distributed data again and again, so let’s get a little familiar with it.\n",
    "\n",
    "First let’s generate random numbers from this distribution.\n",
    "\n",
    "1. (4pt) Create a vector of R pareto(5) random numbers. Make a histogram of those.\n",
    "\n",
    "Comment the shape of the histogram.\n",
    "\n",
    "Note: We choose the parameter α = 5 as Pareto gets nasty as α gets too small (α ⩽ 2).\n",
    "We just want to steer away from those troubles.\n",
    "\n",
    "Hint: use np.random.pareto(5, size) to create such numbers."
   ]
  },
  {
   "cell_type": "code",
   "execution_count": 29,
   "id": "530c6e81-c40e-4ccd-bca9-6af620e2ac6d",
   "metadata": {},
   "outputs": [
    {
     "data": {
      "image/png": "[encoded data removed]",
      "text/plain": [
       "<Figure size 432x288 with 1 Axes>"
      ]
     },
     "metadata": {
      "needs_background": "light"
     },
     "output_type": "display_data"
    }
   ],
   "source": [
    "p = np.random.pareto(5, size=R)\n",
    "_ = plt.hist(p, bins=30, edgecolor='w')"
   ]
  },
  {
   "cell_type": "markdown",
   "id": "953a6c40-fb23-4da9-a6e2-ab9d8513963e",
   "metadata": {},
   "source": [
    "2. (3pt) Compute and report mean and variance of the sample you created (just use np.mean and np.var). Compare these numbers with the theoretical values computed from (2) and (3).\n",
    "\n",
    "Hint: these should be similar"
   ]
  },
  {
   "cell_type": "code",
   "execution_count": 30,
   "id": "3d0081db-ae0b-41b4-8fab-54c3c26c19db",
   "metadata": {},
   "outputs": [
    {
     "data": {
      "text/plain": [
       "(0.25287695759689277, 0.09272152790644844)"
      ]
     },
     "execution_count": 30,
     "metadata": {},
     "output_type": "execute_result"
    }
   ],
   "source": [
    "p_mean = np.mean(p)\n",
    "p_var = np.var(p)\n",
    "p_mean, p_var"
   ]
  },
  {
   "cell_type": "markdown",
   "id": "4f94b18a-e0ee-4211-a66a-2082f392b783",
   "metadata": {},
   "source": [
    "The mean of the Pareto numbers is 0.25287695759689277 and the variance is 0.09272152790644844. It appears like the graph is cutting in half each time."
   ]
  },
  {
   "cell_type": "markdown",
   "id": "ba25cd23-8bfe-4f34-8a65-82a374aaf925",
   "metadata": {},
   "source": [
    "3. (3pt) Now create R pairs of random Paretos. For each pair, compute its mean. You should have R means. Make the histogram. How does this look like?"
   ]
  },
  {
   "cell_type": "code",
   "execution_count": 31,
   "id": "736ce949-69c9-4bdd-966d-6be49d85a9e7",
   "metadata": {},
   "outputs": [
    {
     "data": {
      "image/png": "[encoded data removed]",
      "text/plain": [
       "<Figure size 432x288 with 1 Axes>"
      ]
     },
     "metadata": {
      "needs_background": "light"
     },
     "output_type": "display_data"
    }
   ],
   "source": [
    "p2 = np.random.pareto(5, size=(R, 2))\n",
    "p2_mean = p2.mean(axis=1)\n",
    "_ = plt.hist(p2_mean, bins=30, edgecolor='w')"
   ]
  },
  {
   "cell_type": "markdown",
   "id": "2ecb70a3-182f-4d8b-b09c-21b504b1df61",
   "metadata": {},
   "source": [
    "4. (4pt) Compute and report mean of the pair means, and variance of the means."
   ]
  },
  {
   "cell_type": "markdown",
   "id": "a269a21b-de32-4dd1-95d2-07719983a10c",
   "metadata": {},
   "source": [
    "5. (5pt) Compute theoretical mean and variance of pair means using (2), (3), and CLT. Remember, the variance now should be just 1/2 of what (3) suggests as size of the pairs S = 2. Compare these numbers with the sample versions.\n",
    "\n",
    "Hint: your experimental results should be similar to the theoretical ones"
   ]
  },
  {
   "cell_type": "code",
   "execution_count": 32,
   "id": "cd47b3f8-021b-49de-b648-392714d9330a",
   "metadata": {},
   "outputs": [
    {
     "data": {
      "text/plain": [
       "(0.2469051304576721, 0.052224286525996436)"
      ]
     },
     "execution_count": 32,
     "metadata": {},
     "output_type": "execute_result"
    }
   ],
   "source": [
    "p2_means = np.mean(p2_mean)\n",
    "p2_var = np.var(p2_mean)\n",
    "p2_means, p2_var"
   ]
  },
  {
   "cell_type": "markdown",
   "id": "5ca962e9-e085-4377-ae7f-793dad48b0f8",
   "metadata": {},
   "source": [
    "The Pareto data's mean is 0.2469051304576721 and the variance is 0.052224286525996436. The graph is not cutting in half each one and it starts to move toward center."
   ]
  },
  {
   "cell_type": "markdown",
   "id": "73b5fd88-db00-48bc-b85c-0011a2c6d65c",
   "metadata": {},
   "source": [
    "6. (1pt) Now repeat this with 5-tuples of random numbers. Do you spot any noticeable differences in the histogram?"
   ]
  },
  {
   "cell_type": "code",
   "execution_count": 37,
   "id": "cd294f7b-58f7-4c37-b080-ac3559889772",
   "metadata": {},
   "outputs": [
    {
     "data": {
      "text/plain": [
       "(0.2521067444291397, 0.021161437133666857)"
      ]
     },
     "execution_count": 37,
     "metadata": {},
     "output_type": "execute_result"
    },
    {
     "data": {
      "image/png": "[encoded data removed]",
      "text/plain": [
       "<Figure size 432x288 with 1 Axes>"
      ]
     },
     "metadata": {
      "needs_background": "light"
     },
     "output_type": "display_data"
    }
   ],
   "source": [
    "p3 = np.random.pareto(5, size = (R,5))\n",
    "p3_mean = p3.mean(axis = 1)\n",
    "p3_means = np.mean(p3_mean)\n",
    "p3_var = np.var(p3_mean)\n",
    "_ = plt.hist(p3_mean, bins = 30, edgecolor='w')\n",
    "p3_means, p3_var"
   ]
  },
  {
   "cell_type": "markdown",
   "id": "261fd735-73ad-457c-8725-9f1106eca7db",
   "metadata": {},
   "source": [
    "The Pareto data's mean is 0.2521067444291397 and the variance is 0.021161437133666857. The graph seems like it is somewhat shifting because the most common results are toward the middle."
   ]
  },
  {
   "cell_type": "markdown",
   "id": "26fa818a-b3f5-43da-bd3f-5f03b83486dd",
   "metadata": {},
   "source": [
    "7. (1pt) Repeat with 25-tuples..."
   ]
  },
  {
   "cell_type": "code",
   "execution_count": 38,
   "id": "04060420-cff4-4d57-b3e5-748d3680f92b",
   "metadata": {},
   "outputs": [
    {
     "data": {
      "text/plain": [
       "(0.2521067444291397, 0.021161437133666857)"
      ]
     },
     "execution_count": 38,
     "metadata": {},
     "output_type": "execute_result"
    },
    {
     "data": {
      "image/png": "[encoded data removed]",
      "text/plain": [
       "<Figure size 432x288 with 1 Axes>"
      ]
     },
     "metadata": {
      "needs_background": "light"
     },
     "output_type": "display_data"
    }
   ],
   "source": [
    "p4 = np.random.pareto(5, size = (R,25))\n",
    "p4_mean = p3.mean(axis = 1)\n",
    "p4_means = np.mean(p4_mean)\n",
    "p4_var = np.var(p4_mean)\n",
    "_ = plt.hist(p4_mean, bins = 30, edgecolor='w')\n",
    "p4_means, p4_var"
   ]
  },
  {
   "cell_type": "markdown",
   "id": "78174fdd-9f9f-4e0a-b305-fa79360d0442",
   "metadata": {},
   "source": [
    "The mean is 0.2521067444291397 and the variance is 0.021161437133666857."
   ]
  },
  {
   "cell_type": "markdown",
   "id": "92f656f9-c906-4513-a3d4-8d734453edff",
   "metadata": {},
   "source": [
    "8. (1pt) ... and with 1000-tuples"
   ]
  },
  {
   "cell_type": "code",
   "execution_count": 39,
   "id": "2d6d5989-4cef-4085-affb-ea14d3590c78",
   "metadata": {},
   "outputs": [
    {
     "data": {
      "text/plain": [
       "(0.2501480570632467, 9.812387094132627e-05)"
      ]
     },
     "execution_count": 39,
     "metadata": {},
     "output_type": "execute_result"
    },
    {
     "data": {
      "image/png": "[encoded data removed]",
      "text/plain": [
       "<Figure size 432x288 with 1 Axes>"
      ]
     },
     "metadata": {
      "needs_background": "light"
     },
     "output_type": "display_data"
    }
   ],
   "source": [
    "p5 = np.random.pareto(5, size = (R,1000))\n",
    "p5_mean = p5.mean(axis = 1)\n",
    "p5_means = np.mean(p5_mean)\n",
    "p5_var = np.var(p5_mean)\n",
    "_ = plt.hist(p5_mean, bins = 30, edgecolor='w')\n",
    "p5_means, p5_var"
   ]
  },
  {
   "cell_type": "markdown",
   "id": "637c8d24-91ae-464d-9977-f6116f232435",
   "metadata": {},
   "source": [
    "The mean is 0.2501480570632467 and the variance is 9.812387094132627e-05."
   ]
  },
  {
   "cell_type": "markdown",
   "id": "8814ebc8-4645-4c29-9715-6fc592385989",
   "metadata": {},
   "source": [
    "9. (2pt) Comment on the tuple size, and the shape of the histogram.\n",
    "\n",
    "Hint: consult Openintro Statistics 5.1.3 (p 172-178).\n",
    "\n",
    "As the sample size in the data got bigger, the shape of the histogram took an obvious shift twoard bell curve shapes, with more common values centered in the middle of the graph."
   ]
  },
  {
   "cell_type": "markdown",
   "id": "c93f1a39-7a2c-4e6a-be4c-e030ab34352f",
   "metadata": {},
   "source": [
    "## 2 Global temperature over time (40pt)\n",
    "In this question you will to work with satellite-based global temperature records. There is quite a bit of debate about how satellite records relate to the actual near-ground temperature, here we simply say that we talk about “lower troposphere temperature”, whatever it means. You can download the original dataset from University of Alabama, Huntsville\n",
    "http://vortex.nsstc.uah.edu/data/msu/v6.0/tlt/uahncdc_lt_6.0.txt, on the version on canvas we have done a little bit of cleaning.\n",
    "\n",
    "The variables are:\n",
    "Year\n",
    "Mo month - 1..12\n",
    "\n",
    "the area of measurement: Globe, NH = north hemisphere, Land = NH land, Ocean = NH ocean, SH = south hemisphere, Trpcs = tropics, NoExt = northern areas outside tropics, SoExt, NoPol = northern polar areas, etc. There are separate figures for land and sea\n",
    "\n",
    "temp - Temperature, deg C deviation from 1991-2020 average. \n",
    "\n",
    "Global warming is thought to bring both higher temperatures but also more extreme weather. Can we see this in the data? Your task is to answer two questions:\n",
    "\n",
    "a) Do we observe a trend in the global temperature over time in this data?\n",
    "\n",
    "b) Do we observe a trend in the temporal variability of the global temperature in this data?\n",
    "\n",
    "We base our conclusions on plots and visual inspection only, we do not compute any time trends and confidence values."
   ]
  },
  {
   "cell_type": "markdown",
   "id": "65e0b9f9-8122-411b-b9c7-7f82838ac8b2",
   "metadata": {},
   "source": [
    "1. (5pt) Are these variables of such a measure type that permit to ask/answer such a question?\n",
    "\n",
    "Hint: read Lecture notes http://faculty.washington.edu/otoomet/machineLearning.pdf Section 1.1.1 “Measures: Possible Mathematical Operations”\n"
   ]
  },
  {
   "cell_type": "markdown",
   "id": "e39281f7-b018-4af6-82cd-e98d0a22d4aa",
   "metadata": {},
   "source": [
    "We can possibly use means temp variable and intervals from the years to see the change in trends. However, Ott says the temperature values in this sense are not comparable in the same way.... Degrees\n",
    "of Celsius are based on the temperature of the freezing point of water, and from the climate perspective, it is an arbitrary reference point\" (3). Looking at the means, medians, and modes might be helpful if we look at each year overtime, but it wouldn't help to look at it from all the data."
   ]
  },
  {
   "cell_type": "markdown",
   "id": "4fd9293d-4b7b-4a04-801d-bab15e7c0fc7",
   "metadata": {},
   "source": [
    "2. (2pt) Load the data. Perform basic sanity checks. Note: the data is whitespace separated. you can load it like"
   ]
  },
  {
   "cell_type": "code",
   "execution_count": 41,
   "id": "f307c189-aa75-4cdb-9e4a-d0c5189281fe",
   "metadata": {},
   "outputs": [
    {
     "data": {
      "text/html": [
       "<div>\n",
       "<style scoped>\n",
       "    .dataframe tbody tr th:only-of-type {\n",
       "        vertical-align: middle;\n",
       "    }\n",
       "\n",
       "    .dataframe tbody tr th {\n",
       "        vertical-align: top;\n",
       "    }\n",
       "\n",
       "    .dataframe thead th {\n",
       "        text-align: right;\n",
       "    }\n",
       "</style>\n",
       "<table border=\"1\" class=\"dataframe\">\n",
       "  <thead>\n",
       "    <tr style=\"text-align: right;\">\n",
       "      <th></th>\n",
       "      <th>Year</th>\n",
       "      <th>Mo</th>\n",
       "      <th>Globe</th>\n",
       "      <th>Land</th>\n",
       "      <th>Ocean</th>\n",
       "      <th>NH</th>\n",
       "      <th>Land.1</th>\n",
       "      <th>Ocean.1</th>\n",
       "      <th>SH</th>\n",
       "      <th>Land.2</th>\n",
       "      <th>...</th>\n",
       "      <th>Ocean.5</th>\n",
       "      <th>NoPol</th>\n",
       "      <th>Land.6</th>\n",
       "      <th>Ocean.6</th>\n",
       "      <th>SoPol</th>\n",
       "      <th>Land.7</th>\n",
       "      <th>Ocean.7</th>\n",
       "      <th>USA48</th>\n",
       "      <th>USA49</th>\n",
       "      <th>AUST</th>\n",
       "    </tr>\n",
       "  </thead>\n",
       "  <tbody>\n",
       "    <tr>\n",
       "      <th>0</th>\n",
       "      <td>1978</td>\n",
       "      <td>12</td>\n",
       "      <td>-0.48</td>\n",
       "      <td>-0.51</td>\n",
       "      <td>-0.47</td>\n",
       "      <td>-0.44</td>\n",
       "      <td>-0.46</td>\n",
       "      <td>-0.42</td>\n",
       "      <td>-0.52</td>\n",
       "      <td>-0.62</td>\n",
       "      <td>...</td>\n",
       "      <td>-0.45</td>\n",
       "      <td>-0.39</td>\n",
       "      <td>-0.68</td>\n",
       "      <td>-0.06</td>\n",
       "      <td>-0.45</td>\n",
       "      <td>-0.38</td>\n",
       "      <td>-0.49</td>\n",
       "      <td>-1.29</td>\n",
       "      <td>-1.15</td>\n",
       "      <td>-1.29</td>\n",
       "    </tr>\n",
       "    <tr>\n",
       "      <th>1</th>\n",
       "      <td>1979</td>\n",
       "      <td>1</td>\n",
       "      <td>-0.47</td>\n",
       "      <td>-0.64</td>\n",
       "      <td>-0.41</td>\n",
       "      <td>-0.64</td>\n",
       "      <td>-0.86</td>\n",
       "      <td>-0.50</td>\n",
       "      <td>-0.31</td>\n",
       "      <td>-0.13</td>\n",
       "      <td>...</td>\n",
       "      <td>-0.29</td>\n",
       "      <td>-0.46</td>\n",
       "      <td>-0.95</td>\n",
       "      <td>0.10</td>\n",
       "      <td>-0.15</td>\n",
       "      <td>-0.15</td>\n",
       "      <td>-0.16</td>\n",
       "      <td>-3.22</td>\n",
       "      <td>-2.42</td>\n",
       "      <td>0.92</td>\n",
       "    </tr>\n",
       "    <tr>\n",
       "      <th>2</th>\n",
       "      <td>1979</td>\n",
       "      <td>2</td>\n",
       "      <td>-0.43</td>\n",
       "      <td>-0.56</td>\n",
       "      <td>-0.39</td>\n",
       "      <td>-0.47</td>\n",
       "      <td>-0.57</td>\n",
       "      <td>-0.41</td>\n",
       "      <td>-0.39</td>\n",
       "      <td>-0.53</td>\n",
       "      <td>...</td>\n",
       "      <td>-0.36</td>\n",
       "      <td>-2.00</td>\n",
       "      <td>-2.30</td>\n",
       "      <td>-1.66</td>\n",
       "      <td>-0.80</td>\n",
       "      <td>-1.25</td>\n",
       "      <td>-0.58</td>\n",
       "      <td>-1.76</td>\n",
       "      <td>-1.84</td>\n",
       "      <td>-0.30</td>\n",
       "    </tr>\n",
       "    <tr>\n",
       "      <th>3</th>\n",
       "      <td>1979</td>\n",
       "      <td>3</td>\n",
       "      <td>-0.38</td>\n",
       "      <td>-0.51</td>\n",
       "      <td>-0.33</td>\n",
       "      <td>-0.46</td>\n",
       "      <td>-0.51</td>\n",
       "      <td>-0.44</td>\n",
       "      <td>-0.30</td>\n",
       "      <td>-0.53</td>\n",
       "      <td>...</td>\n",
       "      <td>-0.21</td>\n",
       "      <td>-0.56</td>\n",
       "      <td>-0.47</td>\n",
       "      <td>-0.65</td>\n",
       "      <td>-0.52</td>\n",
       "      <td>-1.25</td>\n",
       "      <td>-0.18</td>\n",
       "      <td>-0.70</td>\n",
       "      <td>-0.39</td>\n",
       "      <td>0.23</td>\n",
       "    </tr>\n",
       "    <tr>\n",
       "      <th>4</th>\n",
       "      <td>1979</td>\n",
       "      <td>4</td>\n",
       "      <td>-0.40</td>\n",
       "      <td>-0.57</td>\n",
       "      <td>-0.34</td>\n",
       "      <td>-0.47</td>\n",
       "      <td>-0.62</td>\n",
       "      <td>-0.37</td>\n",
       "      <td>-0.34</td>\n",
       "      <td>-0.46</td>\n",
       "      <td>...</td>\n",
       "      <td>-0.31</td>\n",
       "      <td>-0.84</td>\n",
       "      <td>-0.81</td>\n",
       "      <td>-0.87</td>\n",
       "      <td>-0.26</td>\n",
       "      <td>0.26</td>\n",
       "      <td>-0.51</td>\n",
       "      <td>-0.72</td>\n",
       "      <td>-0.46</td>\n",
       "      <td>-1.12</td>\n",
       "    </tr>\n",
       "  </tbody>\n",
       "</table>\n",
       "<p>5 rows × 29 columns</p>\n",
       "</div>"
      ],
      "text/plain": [
       "   Year  Mo  Globe  Land  Ocean    NH  Land.1  Ocean.1    SH  Land.2  ...  \\\n",
       "0  1978  12  -0.48 -0.51  -0.47 -0.44   -0.46    -0.42 -0.52   -0.62  ...   \n",
       "1  1979   1  -0.47 -0.64  -0.41 -0.64   -0.86    -0.50 -0.31   -0.13  ...   \n",
       "2  1979   2  -0.43 -0.56  -0.39 -0.47   -0.57    -0.41 -0.39   -0.53  ...   \n",
       "3  1979   3  -0.38 -0.51  -0.33 -0.46   -0.51    -0.44 -0.30   -0.53  ...   \n",
       "4  1979   4  -0.40 -0.57  -0.34 -0.47   -0.62    -0.37 -0.34   -0.46  ...   \n",
       "\n",
       "   Ocean.5  NoPol  Land.6  Ocean.6  SoPol  Land.7  Ocean.7  USA48  USA49  AUST  \n",
       "0    -0.45  -0.39   -0.68    -0.06  -0.45   -0.38    -0.49  -1.29  -1.15 -1.29  \n",
       "1    -0.29  -0.46   -0.95     0.10  -0.15   -0.15    -0.16  -3.22  -2.42  0.92  \n",
       "2    -0.36  -2.00   -2.30    -1.66  -0.80   -1.25    -0.58  -1.76  -1.84 -0.30  \n",
       "3    -0.21  -0.56   -0.47    -0.65  -0.52   -1.25    -0.18  -0.70  -0.39  0.23  \n",
       "4    -0.31  -0.84   -0.81    -0.87  -0.26    0.26    -0.51  -0.72  -0.46 -1.12  \n",
       "\n",
       "[5 rows x 29 columns]"
      ]
     },
     "execution_count": 41,
     "metadata": {},
     "output_type": "execute_result"
    }
   ],
   "source": [
    "lt = pd.read_csv(\"./data/UAH-lower-troposphere_wide.csv.bz2\", delim_whitespace = True)\n",
    "lt.head()"
   ]
  },
  {
   "cell_type": "code",
   "execution_count": 43,
   "id": "918900b2-8cdc-4179-8b40-5124674080df",
   "metadata": {},
   "outputs": [
    {
     "data": {
      "text/plain": [
       "(511, 29)"
      ]
     },
     "execution_count": 43,
     "metadata": {},
     "output_type": "execute_result"
    }
   ],
   "source": [
    "lt.shape"
   ]
  },
  {
   "cell_type": "markdown",
   "id": "c551ebcf-7040-4acf-a8a0-b1b83c41112c",
   "metadata": {},
   "source": [
    "3. (5pt) Make a simple plot to address the first question–the temperature trend. Which variables do you want to plot? Comment the result: what, if anything, does the figure suggest?\n",
    "\n",
    "Hint: you may need a variable for time along the lines time = year + month/12"
   ]
  },
  {
   "cell_type": "code",
   "execution_count": 44,
   "id": "36673799-a5b8-41ed-be23-89e4b231c96f",
   "metadata": {},
   "outputs": [
    {
     "data": {
      "image/png": "[encoded data removed]",
      "text/plain": [
       "<Figure size 432x288 with 1 Axes>"
      ]
     },
     "metadata": {
      "needs_background": "light"
     },
     "output_type": "display_data"
    }
   ],
   "source": [
    "years = [] \n",
    "for value in lt.Year: \n",
    "    time = (lt.Mo / 12) + value\n",
    "    years.append(time)\n",
    "\n",
    "plt.plot(years, lt.Globe, color = 'blue')\n",
    "plt.title('Global deviation against time')\n",
    "plt.xlabel('Year')\n",
    "plt.ylabel('Global Temperature')\n",
    "plt.show()    "
   ]
  },
  {
   "cell_type": "markdown",
   "id": "646203e8-4c65-4776-866d-7aefa9b47523",
   "metadata": {},
   "source": [
    "4. (6pt) However, for each month we have a single global temperature reading so we cannot compute the monthly variance. Instead, let’s compute yearly variance, and make a plot where years are on the horizontal axis and temperature variance on the vertical axis.\n",
    "\n",
    "Hint: use groupby by years."
   ]
  },
  {
   "cell_type": "code",
   "execution_count": 53,
   "id": "086eca1d-f6d5-4352-a822-cfa8dcc687ed",
   "metadata": {},
   "outputs": [
    {
     "data": {
      "image/png": "[encoded data removed]",
      "text/plain": [
       "<Figure size 432x288 with 1 Axes>"
      ]
     },
     "metadata": {
      "needs_background": "light"
     },
     "output_type": "display_data"
    }
   ],
   "source": [
    "compute_yrly = lt.groupby(\"Year\").Globe.mean()\n",
    "_ = compute_yrly.plot.line()"
   ]
  },
  {
   "cell_type": "markdown",
   "id": "57e5cb83-b786-4343-9cd6-b29cee9a35d5",
   "metadata": {},
   "source": [
    "5. (5pt) In order to be consistent, let’s do the same with temperature: compute yearly temperature and repeat the plot with yearly averages. \n",
    "\n",
    "But what is “yearly temperature”? Do you prefer yearly mean temperature? Or perhaps yearly median? Discuss the advantages/disadvantages of these measures and pick an\n",
    "appropriate measure. You may also display both.\n",
    "\n",
    "Hint: Lecture notes http://faculty.washington.edu/otoomet/machineLearning.\n",
    "pdf Section 1.2.2 “Doing descriptive statistics” discusses mean and median."
   ]
  },
  {
   "cell_type": "markdown",
   "id": "59ec8812-f9bc-4bb5-a76b-e73a09c00c32",
   "metadata": {},
   "source": [
    "6. (6pt) Finally, let’s also make similar plots using decades instead of years.\n",
    "\n",
    "Hint: create a decade variable using year and integer division //."
   ]
  },
  {
   "cell_type": "code",
   "execution_count": 49,
   "id": "22f20efa-6a95-4070-b401-7e1790924cfb",
   "metadata": {},
   "outputs": [
    {
     "data": {
      "image/png": "[encoded data removed]",
      "text/plain": [
       "<Figure size 432x288 with 1 Axes>"
      ]
     },
     "metadata": {
      "needs_background": "light"
     },
     "output_type": "display_data"
    }
   ],
   "source": [
    "y70s = []\n",
    "y80s = []\n",
    "y90s = []\n",
    "y00s = []\n",
    "y10s = []\n",
    "y20s = []\n",
    "for y in lt.Year:\n",
    "    val = y // 10 % 10\n",
    "    if (val == 7):\n",
    "        y70s.append(lt.Globe)\n",
    "    if (val == 8):\n",
    "        y80s.append(lt.Globe)\n",
    "    if (val == 9):\n",
    "        y90s.append(lt.Globe)\n",
    "    if (val == 0):\n",
    "        y00s.append(lt.Globe)\n",
    "    if (val == 1):\n",
    "        y10s.append(lt.Globe)\n",
    "    if (val == 2):\n",
    "        y20s.append(lt.Globe)\n",
    "m70s = np.mean(y70s)\n",
    "m80s = np.mean(y80s)\n",
    "m90s = np.mean(y90s)\n",
    "m00s = np.mean(y00s)\n",
    "m10s = np.mean(y10s)\n",
    "m20s = np.mean(y20s)\n",
    "dec_avg = [m70s, m80s, m90s, m00s, m10s, m20s]\n",
    "year = [\"1970's\", \"1980's\", \"1990's\", \"2000's\", \"2010's\", \"2020's\"]\n",
    "plt.plot(year, dec_avg, color = 'green')\n",
    "plt.title('Global temp across decades')\n",
    "plt.xlabel('Year')\n",
    "plt.ylabel('Global Temp')\n",
    "plt.show() "
   ]
  },
  {
   "cell_type": "markdown",
   "id": "c2ca09fb-6a4d-40ae-b669-e071ead6efe1",
   "metadata": {},
   "source": [
    "7. (5pt) In your decadal plot: what do you think about data quality of 1970s and 2020s?\n",
    "\n",
    "Hint: how many observations are there?"
   ]
  },
  {
   "cell_type": "markdown",
   "id": "f8eb960b-c8fd-4665-8581-9b3a3af49ef1",
   "metadata": {},
   "source": [
    "For the 1970's I took the average within the year to not mess up the data. The 70's graph only had part of 1978 and 1979, and 2020 only has part of 2020 and 2021, which means its important to remember it might throw the graph off. However, the averages were close and the line looks flat. Overall, the Global Temp across yearly temp averages makes the most sense. Rather grouping it by year makes the data much cleaner."
   ]
  },
  {
   "cell_type": "markdown",
   "id": "c8f6a05a-38aa-4e65-a702-c93709fab473",
   "metadata": {},
   "source": [
    "8. (6pt) Discuss all your plots and state your conclusions: do you see any temperature trend? Do you see any trend in temporal variability? Which plots do you think illustrate your claims in the best way?"
   ]
  },
  {
   "cell_type": "code",
   "execution_count": 52,
   "id": "0c8ec7b0-e6f8-4f6a-b255-17e28da54c2e",
   "metadata": {},
   "outputs": [
    {
     "data": {
      "image/png": "[encoded data removed]",
      "text/plain": [
       "<Figure size 432x288 with 1 Axes>"
      ]
     },
     "metadata": {
      "needs_background": "light"
     },
     "output_type": "display_data"
    }
   ],
   "source": [
    "nh = lt.groupby(\"Year\").NH.mean()\n",
    "sh = lt.groupby(\"Year\").SH.mean()\n",
    "hemi = pd.DataFrame({\"NH\": nh, \"SH\": sh})\n",
    "_ = hemi.plot.line()"
   ]
  },
  {
   "cell_type": "markdown",
   "id": "ffb5a146-6b1b-4d28-8dae-8c11d630b1e2",
   "metadata": {},
   "source": [
    "The trend of the temp increases and decreases are very similar. Since the 2010's we can see the Northern Hemisphere is increasing more, which means its been getting warmer over time. It deviates much more than the southern hemisphere does. This may be because more people live in the northern hemisphere, which means more likelihood of human activities causing climate change effects."
   ]
  },
  {
   "cell_type": "markdown",
   "id": "9e052b9e-a86f-4047-87c0-f141f592b914",
   "metadata": {},
   "source": [
    "How much time did you spend on this PS?"
   ]
  },
  {
   "cell_type": "markdown",
   "id": "c5a6335c-a253-4a70-8d23-0577bc888988",
   "metadata": {},
   "source": [
    "6-7 hours."
   ]
  },
  {
   "cell_type": "code",
   "execution_count": null,
   "id": "3ad8b149-232b-4dc3-9388-e67183ceb6de",
   "metadata": {},
   "outputs": [],
   "source": []
  }
 ],
 "metadata": {
  "kernelspec": {
   "display_name": "Python 3",
   "language": "python",
   "name": "python3"
  },
  "language_info": {
   "codemirror_mode": {
    "name": "ipython",
    "version": 3
   },
   "file_extension": ".py",
   "mimetype": "text/x-python",
   "name": "python",
   "nbconvert_exporter": "python",
   "pygments_lexer": "ipython3",
   "version": "3.8.8"
  }
 },
 "nbformat": 4,
 "nbformat_minor": 5
}
